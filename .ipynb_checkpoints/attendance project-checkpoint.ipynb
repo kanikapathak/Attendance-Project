{
 "cells": [
  {
   "cell_type": "code",
   "execution_count": 10,
   "id": "bc911560",
   "metadata": {},
   "outputs": [],
   "source": [
    "import cv2\n",
    "import numpy as np\n",
    "import face_recognition\n",
    "import os\n",
    "from datetime import datetime"
   ]
  },
  {
   "cell_type": "code",
   "execution_count": 11,
   "id": "066644ef",
   "metadata": {},
   "outputs": [
    {
     "name": "stdout",
     "output_type": "stream",
     "text": [
      "['Gourang Nagar.jpg', 'Kanika Pathak.jpg']\n",
      "['Gourang Nagar', 'Kanika Pathak']\n"
     ]
    }
   ],
   "source": [
    "path = 'Dataset_of_Images'\n",
    "images= []\n",
    "classNames = []\n",
    "myList = os.listdir(path)\n",
    "print(myList)\n",
    "\n",
    "for cl in myList:\n",
    "    curImg = cv2.imread(f'{path}/{cl}')\n",
    "    images.append(curImg)\n",
    "    classNames.append(os.path.splitext(cl)[0])\n",
    "print(classNames)"
   ]
  },
  {
   "cell_type": "code",
   "execution_count": 15,
   "id": "5669c2ca",
   "metadata": {},
   "outputs": [
    {
     "name": "stdout",
     "output_type": "stream",
     "text": [
      "encoding complete, values found = 2\n"
     ]
    }
   ],
   "source": [
    "def findEncodings(images):\n",
    "    encodeList = []\n",
    "    for img in images:\n",
    "        img = cv2.cvtColor(img,cv2.COLOR_BGR2RGB)\n",
    "        encode = face_recognition.face_encodings(img)[0]\n",
    "        encodeList.append(encode)\n",
    "    return encodeList\n",
    "\n",
    "def markAttendance(name):\n",
    "    with open('attendance.csv','r+') as f:\n",
    "        myDataList = f.readlines()\n",
    "        print(myDataList)\n",
    "        nameList = []\n",
    "        for line in myDataList:\n",
    "            entry = line.split(',')\n",
    "            nameList.append(entry[0])\n",
    "        if name not in nameList:\n",
    "            now = datetime.now()\n",
    "            dtString = now.strftime('%H:%M')\n",
    "            f.writelines(f'\\n{name},{dtString}')\n",
    "        \n",
    "encodeListKnown = findEncodings(images)\n",
    "print('encoding complete, values found =' , len(encodeListKnown))"
   ]
  },
  {
   "cell_type": "code",
   "execution_count": 16,
   "id": "949e46f2",
   "metadata": {},
   "outputs": [
    {
     "name": "stdout",
     "output_type": "stream",
     "text": [
      "['Name ,Entry Time\\n', 'KANIKA PATHAK,15:23\\n']\n",
      "['Name ,Entry Time\\n', 'KANIKA PATHAK,15:23\\n', '\\n', 'GOURANG NAGAR,15:31']\n",
      "['Name ,Entry Time\\n', 'KANIKA PATHAK,15:23\\n', '\\n', 'GOURANG NAGAR,15:31']\n",
      "['Name ,Entry Time\\n', 'KANIKA PATHAK,15:23\\n', '\\n', 'GOURANG NAGAR,15:31']\n"
     ]
    }
   ],
   "source": [
    "cap = cv2.VideoCapture(0)\n",
    "\n",
    "while True:\n",
    "    success, img = cap.read()\n",
    " \n",
    "    imgSmall = cv2.cvtColor(img,cv2.COLOR_BGR2RGB)\n",
    "    \n",
    "    faceCurFrame= face_recognition.face_locations(imgSmall)\n",
    "    encodeCurFrame = face_recognition.face_encodings(imgSmall,faceCurFrame)\n",
    "    \n",
    "    for encodeFace,faceLoc in zip(encodeCurFrame, faceCurFrame):\n",
    "        matches = face_recognition.compare_faces(encodeListKnown, encodeFace)\n",
    "        faceDis = face_recognition.face_distance(encodeListKnown, encodeFace)\n",
    "        matchIndex = np.argmin(faceDis)\n",
    "        \n",
    "        if matches[matchIndex]:\n",
    "            name = classNames[matchIndex].upper()\n",
    "            y1,x2,y2,x1= faceLoc\n",
    "            cv2.rectangle(img,(x1,y1),(x2,y2),(0,255,0),1)\n",
    "            cv2.rectangle(img,(x1,y2-35),(x2,y2),(255,0,0),cv2.FILLED)\n",
    "            cv2.putText(img,name, (x1+6, y2-6), cv2.FONT_HERSHEY_COMPLEX,1,(255,255,255),1)\n",
    "            markAttendance(name)\n",
    "            \n",
    "    cv2.imshow('Webcam',img)\n",
    "    if cv2.waitKey(1) == 13: #13 is the Enter Key\n",
    "        break\n",
    "cap.release()\n",
    "cv2.destroyAllWindows() "
   ]
  },
  {
   "cell_type": "code",
   "execution_count": null,
   "id": "4aea3c8e-6c18-424b-b84c-50d898d82021",
   "metadata": {},
   "outputs": [],
   "source": []
  }
 ],
 "metadata": {
  "kernelspec": {
   "display_name": "Python 3 (ipykernel)",
   "language": "python",
   "name": "python3"
  },
  "language_info": {
   "codemirror_mode": {
    "name": "ipython",
    "version": 3
   },
   "file_extension": ".py",
   "mimetype": "text/x-python",
   "name": "python",
   "nbconvert_exporter": "python",
   "pygments_lexer": "ipython3",
   "version": "3.10.5"
  }
 },
 "nbformat": 4,
 "nbformat_minor": 5
}
